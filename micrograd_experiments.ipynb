{
 "cells": [
  {
   "cell_type": "code",
   "execution_count": 1,
   "metadata": {},
   "outputs": [],
   "source": [
    "import math\n",
    "import numpy as np\n",
    "import matplotlib.pyplot as plt"
   ]
  },
  {
   "cell_type": "code",
   "execution_count": 2,
   "metadata": {},
   "outputs": [],
   "source": [
    "def f(x):\n",
    "    return 3 * x**2 - 4 * x + 5\n"
   ]
  },
  {
   "cell_type": "code",
   "execution_count": 4,
   "metadata": {},
   "outputs": [
    {
     "data": {
      "text/plain": [
       "20.0"
      ]
     },
     "execution_count": 4,
     "metadata": {},
     "output_type": "execute_result"
    }
   ],
   "source": [
    "f(3.0)"
   ]
  },
  {
   "cell_type": "code",
   "execution_count": 20,
   "metadata": {},
   "outputs": [
    {
     "data": {
      "image/png": "[encoded data removed]",
      "text/plain": [
       "<Figure size 432x288 with 1 Axes>"
      ]
     },
     "metadata": {
      "needs_background": "light"
     },
     "output_type": "display_data"
    }
   ],
   "source": [
    "xs = np.arange(-5, 5, 0.25)\n",
    "ys = f(xs)\n",
    "plt.plot(xs, ys)\n",
    "plt.scatter([3.0], [f(3.0)], c='r', s=100);"
   ]
  },
  {
   "cell_type": "code",
   "execution_count": 21,
   "metadata": {},
   "outputs": [
    {
     "data": {
      "text/plain": [
       "-21.999700000066014"
      ]
     },
     "execution_count": 21,
     "metadata": {},
     "output_type": "execute_result"
    }
   ],
   "source": [
    "h = 0.0001\n",
    "x = -3.0\n",
    "\n",
    "(f(x + h) - f(x)) / h"
   ]
  },
  {
   "cell_type": "code",
   "execution_count": 23,
   "metadata": {},
   "outputs": [
    {
     "name": "stdout",
     "output_type": "stream",
     "text": [
      "4.0\n"
     ]
    }
   ],
   "source": [
    "a = 2.0\n",
    "b = -3.0\n",
    "c = 10.0\n",
    "d = a*b +c\n",
    "print(d)\n"
   ]
  },
  {
   "cell_type": "code",
   "execution_count": 26,
   "metadata": {},
   "outputs": [
    {
     "name": "stdout",
     "output_type": "stream",
     "text": [
      "d1: 4.0\n",
      "d2: 3.999699999999999\n",
      "slope: -3.000000000010772\n"
     ]
    }
   ],
   "source": [
    "h = 0.0001\n",
    "\n",
    "a = 2.0\n",
    "b = -3.0\n",
    "c = 10.0\n",
    "\n",
    "d1 = a*b +c\n",
    "a += h\n",
    "d2 = a*b +c\n",
    "\n",
    "print('d1:', d1)\n",
    "print('d2:', d2)\n",
    "print('slope:', (d2-d1)/h )\n"
   ]
  },
  {
   "cell_type": "code",
   "execution_count": 76,
   "metadata": {},
   "outputs": [],
   "source": [
    "from typing import Callable, Optional, Tuple, Union\n",
    "from __future__ import annotations\n",
    "\n",
    "\n",
    "class Value:\n",
    "    def __init__(self, data: Union[int, float], _children: tuple[Value, ...] = (), _op: str = \"\", label: str = \"\") -> None:\n",
    "        self.data = data\n",
    "        self.grad: float = 0.0\n",
    "        self._prev = set(_children)\n",
    "        self._op = _op\n",
    "        self._backward: Callable[[], Union[Value, None]] = lambda: None\n",
    "        self.label = label\n",
    "\n",
    "    def __repr__(self) -> str:\n",
    "        return f\"Value(data={self.data})\"\n",
    "\n",
    "    def __add__(self, other):\n",
    "        out = Value(self.data + other.data, (self, other), \"+\")\n",
    "        return out\n",
    "\n",
    "    def __mul__(self, other):\n",
    "        out = Value(self.data * other.data, (self, other), \"*\")\n",
    "        return out\n",
    "\n",
    "    def __pow__(self, other: Union[int, float]):\n",
    "        assert isinstance(other, (int, float)), \"only supporting int/float powers for now\"\n",
    "        out = Value(self.data**other, (self,), f\"**{other}\")\n",
    "\n",
    "        def _backward():\n",
    "            self.grad += (other * self.data ** (other - 1)) * out.grad\n",
    "            out._backward = _backward\n",
    "\n",
    "            return out\n",
    "\n",
    "    def __neg__(self):  # -self\n",
    "        return self * -1\n",
    "\n",
    "    def __radd__(self, other):  # other + self\n",
    "        return self + other\n",
    "\n",
    "    def __sub__(self, other):  # self - other\n",
    "        return self + (-other)\n",
    "\n",
    "    def __rsub__(self, other):  # other - self\n",
    "        return other + (-self)\n",
    "\n",
    "    def __rmul__(self, other):  # other * self\n",
    "        return self * other\n",
    "\n",
    "    def __truediv__(self, other):  # self / other\n",
    "        return self * other**-1\n",
    "\n",
    "    def __rtruediv__(self, other):  # other / self\n",
    "        return other * self**-1\n",
    "    \n",
    "    def relu(self):\n",
    "        out = Value(0 if self.data < 0 else self.data, (self,), \"ReLU\")\n",
    "\n",
    "        def _backward():\n",
    "            self.grad += (out.data > 0) * out.grad\n",
    "\n",
    "        out._backward = _backward\n",
    "\n",
    "        return out\n",
    "\n",
    "    def backward(self):\n",
    "\n",
    "        # topological order all of the children in the graph\n",
    "        topo = []\n",
    "        visited = set()\n",
    "\n",
    "        def build_topo(v):\n",
    "            if v not in visited:\n",
    "                visited.add(v)\n",
    "                for child in v._prev:\n",
    "                    build_topo(child)\n",
    "                topo.append(v)\n",
    "\n",
    "        build_topo(self)\n",
    "\n",
    "        # go one variable at a time and apply the chain rule to get its gradient\n",
    "        self.grad = 1\n",
    "        for v in reversed(topo):\n",
    "            v._backward()\n"
   ]
  },
  {
   "cell_type": "code",
   "execution_count": 77,
   "metadata": {},
   "outputs": [
    {
     "data": {
      "text/plain": [
       "Value(data=-8.0)"
      ]
     },
     "execution_count": 77,
     "metadata": {},
     "output_type": "execute_result"
    }
   ],
   "source": [
    "a = Value(2.0, label=\"a\")\n",
    "b = Value(-3.0, label=\"b\")\n",
    "c = Value(10.0, label=\"c\")\n",
    "e = a * b\n",
    "e.label = \"e\"\n",
    "d = e + c\n",
    "d.label = \"d\"\n",
    "f = Value(-2.0, label=\"f\")\n",
    "L = d * f\n",
    "L.label = \"L\"\n",
    "\n",
    "L\n"
   ]
  },
  {
   "cell_type": "code",
   "execution_count": 78,
   "metadata": {},
   "outputs": [],
   "source": [
    "from graphviz import Digraph\n",
    "\n",
    "\n",
    "def trace(root):\n",
    "    nodes: set[Value] = set()\n",
    "    edges: set[tuple[Value, Value]] = set()\n",
    "\n",
    "    def build(v: Value):\n",
    "        if v not in nodes:\n",
    "            nodes.add(v)\n",
    "            for child in v._prev:\n",
    "                edges.add((child, v))\n",
    "                build(child)\n",
    "\n",
    "    build(root)\n",
    "    return nodes, edges\n",
    "\n",
    "\n",
    "def draw_dot(root: Value):\n",
    "    dot = Digraph(format=\"svg\", graph_attr={\"rankdir\": \"LR\"})\n",
    "\n",
    "    nodes, edges = trace(root)\n",
    "    for n in nodes:\n",
    "        uid = str(id(n))\n",
    "        dot.node(name=uid, label=\"{%s | data  %.2f | grad %.2f}\" % (n.label, n.data, n.grad), shape=\"record\")\n",
    "        if n._op:\n",
    "            dot.node(name=uid + n._op, label=n._op)\n",
    "            dot.edge(uid + n._op, uid)\n",
    "    \n",
    "    for n1, n2 in edges:\n",
    "        dot.edge(str(id(n1)), str(id(n2)) + n2._op)\n",
    "    \n",
    "    return dot\n"
   ]
  },
  {
   "cell_type": "code",
   "execution_count": 79,
   "metadata": {},
   "outputs": [
    {
     "data": {
      "image/svg+xml": "<?xml version=\"1.0\" encoding=\"UTF-8\" standalone=\"no\"?>\n<!DOCTYPE svg PUBLIC \"-//W3C//DTD SVG 1.1//EN\"\n \"http://www.w3.org/Graphics/SVG/1.1/DTD/svg11.dtd\">\n<!-- Generated by graphviz version 3.0.0 (20220226.1711)\n -->\n<!-- Pages: 1 -->\n<svg width=\"1045pt\" height=\"156pt\"\n viewBox=\"0.00 0.00 1045.00 156.00\" xmlns=\"http://www.w3.org/2000/svg\" xmlns:xlink=\"http://www.w3.org/1999/xlink\">\n<g id=\"graph0\" class=\"graph\" transform=\"scale(1 1) rotate(0) translate(4 152)\">\n<polygon fill=\"white\" stroke=\"transparent\" points=\"-4,4 -4,-152 1041,-152 1041,4 -4,4\"/>\n<!-- 2556515044896 -->\n<g id=\"node1\" class=\"node\">\n<title>2556515044896</title>\n<polygon fill=\"none\" stroke=\"black\" points=\"2.5,-111.5 2.5,-147.5 162.5,-147.5 162.5,-111.5 2.5,-111.5\"/>\n<text text-anchor=\"middle\" x=\"14\" y=\"-125.8\" font-family=\"Times New Roman,serif\" font-size=\"14.00\">a</text>\n<polyline fill=\"none\" stroke=\"black\" points=\"25.5,-111.5 25.5,-147.5 \"/>\n<text text-anchor=\"middle\" x=\"59.5\" y=\"-125.8\" font-family=\"Times New Roman,serif\" font-size=\"14.00\">data 2.00</text>\n<polyline fill=\"none\" stroke=\"black\" points=\"93.5,-111.5 93.5,-147.5 \"/>\n<text text-anchor=\"middle\" x=\"128\" y=\"-125.8\" font-family=\"Times New Roman,serif\" font-size=\"14.00\">grad 0.00</text>\n</g>\n<!-- 2556515044032* -->\n<g id=\"node5\" class=\"node\">\n<title>2556515044032*</title>\n<ellipse fill=\"none\" stroke=\"black\" cx=\"228\" cy=\"-101.5\" rx=\"27\" ry=\"18\"/>\n<text text-anchor=\"middle\" x=\"228\" y=\"-97.8\" font-family=\"Times New Roman,serif\" font-size=\"14.00\">*</text>\n</g>\n<!-- 2556515044896&#45;&gt;2556515044032* -->\n<g id=\"edge5\" class=\"edge\">\n<title>2556515044896&#45;&gt;2556515044032*</title>\n<path fill=\"none\" stroke=\"black\" d=\"M162.8,-114.03C172.96,-112.04 182.91,-110.1 191.84,-108.36\"/>\n<polygon fill=\"black\" stroke=\"black\" points=\"192.64,-111.77 201.79,-106.42 191.3,-104.9 192.64,-111.77\"/>\n</g>\n<!-- 2556515447856 -->\n<g id=\"node2\" class=\"node\">\n<title>2556515447856</title>\n<polygon fill=\"none\" stroke=\"black\" points=\"583.5,-55.5 583.5,-91.5 744.5,-91.5 744.5,-55.5 583.5,-55.5\"/>\n<text text-anchor=\"middle\" x=\"595.5\" y=\"-69.8\" font-family=\"Times New Roman,serif\" font-size=\"14.00\">d</text>\n<polyline fill=\"none\" stroke=\"black\" points=\"607.5,-55.5 607.5,-91.5 \"/>\n<text text-anchor=\"middle\" x=\"641.5\" y=\"-69.8\" font-family=\"Times New Roman,serif\" font-size=\"14.00\">data 4.00</text>\n<polyline fill=\"none\" stroke=\"black\" points=\"675.5,-55.5 675.5,-91.5 \"/>\n<text text-anchor=\"middle\" x=\"710\" y=\"-69.8\" font-family=\"Times New Roman,serif\" font-size=\"14.00\">grad 0.00</text>\n</g>\n<!-- 2556515041584* -->\n<g id=\"node7\" class=\"node\">\n<title>2556515041584*</title>\n<ellipse fill=\"none\" stroke=\"black\" cx=\"808\" cy=\"-45.5\" rx=\"27\" ry=\"18\"/>\n<text text-anchor=\"middle\" x=\"808\" y=\"-41.8\" font-family=\"Times New Roman,serif\" font-size=\"14.00\">*</text>\n</g>\n<!-- 2556515447856&#45;&gt;2556515041584* -->\n<g id=\"edge6\" class=\"edge\">\n<title>2556515447856&#45;&gt;2556515041584*</title>\n<path fill=\"none\" stroke=\"black\" d=\"M744.72,-57.78C754.34,-55.88 763.74,-54.03 772.2,-52.36\"/>\n<polygon fill=\"black\" stroke=\"black\" points=\"772.88,-55.8 782.01,-50.43 771.52,-48.93 772.88,-55.8\"/>\n</g>\n<!-- 2556515447856+ -->\n<g id=\"node3\" class=\"node\">\n<title>2556515447856+</title>\n<ellipse fill=\"none\" stroke=\"black\" cx=\"520\" cy=\"-73.5\" rx=\"27\" ry=\"18\"/>\n<text text-anchor=\"middle\" x=\"520\" y=\"-69.8\" font-family=\"Times New Roman,serif\" font-size=\"14.00\">+</text>\n</g>\n<!-- 2556515447856+&#45;&gt;2556515447856 -->\n<g id=\"edge1\" class=\"edge\">\n<title>2556515447856+&#45;&gt;2556515447856</title>\n<path fill=\"none\" stroke=\"black\" d=\"M547.04,-73.5C554.83,-73.5 563.84,-73.5 573.33,-73.5\"/>\n<polygon fill=\"black\" stroke=\"black\" points=\"573.36,-77 583.36,-73.5 573.36,-70 573.36,-77\"/>\n</g>\n<!-- 2556515044032 -->\n<g id=\"node4\" class=\"node\">\n<title>2556515044032</title>\n<polygon fill=\"none\" stroke=\"black\" points=\"292,-83.5 292,-119.5 456,-119.5 456,-83.5 292,-83.5\"/>\n<text text-anchor=\"middle\" x=\"303.5\" y=\"-97.8\" font-family=\"Times New Roman,serif\" font-size=\"14.00\">e</text>\n<polyline fill=\"none\" stroke=\"black\" points=\"315,-83.5 315,-119.5 \"/>\n<text text-anchor=\"middle\" x=\"351\" y=\"-97.8\" font-family=\"Times New Roman,serif\" font-size=\"14.00\">data &#45;6.00</text>\n<polyline fill=\"none\" stroke=\"black\" points=\"387,-83.5 387,-119.5 \"/>\n<text text-anchor=\"middle\" x=\"421.5\" y=\"-97.8\" font-family=\"Times New Roman,serif\" font-size=\"14.00\">grad 0.00</text>\n</g>\n<!-- 2556515044032&#45;&gt;2556515447856+ -->\n<g id=\"edge8\" class=\"edge\">\n<title>2556515044032&#45;&gt;2556515447856+</title>\n<path fill=\"none\" stroke=\"black\" d=\"M456.26,-85.7C465.96,-83.81 475.44,-81.97 483.97,-80.31\"/>\n<polygon fill=\"black\" stroke=\"black\" points=\"484.7,-83.73 493.85,-78.39 483.37,-76.86 484.7,-83.73\"/>\n</g>\n<!-- 2556515044032*&#45;&gt;2556515044032 -->\n<g id=\"edge2\" class=\"edge\">\n<title>2556515044032*&#45;&gt;2556515044032</title>\n<path fill=\"none\" stroke=\"black\" d=\"M255.08,-101.5C262.96,-101.5 272.1,-101.5 281.73,-101.5\"/>\n<polygon fill=\"black\" stroke=\"black\" points=\"281.92,-105 291.92,-101.5 281.92,-98 281.92,-105\"/>\n</g>\n<!-- 2556515041584 -->\n<g id=\"node6\" class=\"node\">\n<title>2556515041584</title>\n<polygon fill=\"none\" stroke=\"black\" points=\"871,-27.5 871,-63.5 1037,-63.5 1037,-27.5 871,-27.5\"/>\n<text text-anchor=\"middle\" x=\"883.5\" y=\"-41.8\" font-family=\"Times New Roman,serif\" font-size=\"14.00\">L</text>\n<polyline fill=\"none\" stroke=\"black\" points=\"896,-27.5 896,-63.5 \"/>\n<text text-anchor=\"middle\" x=\"932\" y=\"-41.8\" font-family=\"Times New Roman,serif\" font-size=\"14.00\">data &#45;8.00</text>\n<polyline fill=\"none\" stroke=\"black\" points=\"968,-27.5 968,-63.5 \"/>\n<text text-anchor=\"middle\" x=\"1002.5\" y=\"-41.8\" font-family=\"Times New Roman,serif\" font-size=\"14.00\">grad 0.00</text>\n</g>\n<!-- 2556515041584*&#45;&gt;2556515041584 -->\n<g id=\"edge3\" class=\"edge\">\n<title>2556515041584*&#45;&gt;2556515041584</title>\n<path fill=\"none\" stroke=\"black\" d=\"M835.08,-45.5C842.64,-45.5 851.35,-45.5 860.56,-45.5\"/>\n<polygon fill=\"black\" stroke=\"black\" points=\"860.7,-49 870.7,-45.5 860.7,-42 860.7,-49\"/>\n</g>\n<!-- 2556515041632 -->\n<g id=\"node8\" class=\"node\">\n<title>2556515041632</title>\n<polygon fill=\"none\" stroke=\"black\" points=\"0,-56.5 0,-92.5 165,-92.5 165,-56.5 0,-56.5\"/>\n<text text-anchor=\"middle\" x=\"12\" y=\"-70.8\" font-family=\"Times New Roman,serif\" font-size=\"14.00\">b</text>\n<polyline fill=\"none\" stroke=\"black\" points=\"24,-56.5 24,-92.5 \"/>\n<text text-anchor=\"middle\" x=\"60\" y=\"-70.8\" font-family=\"Times New Roman,serif\" font-size=\"14.00\">data &#45;3.00</text>\n<polyline fill=\"none\" stroke=\"black\" points=\"96,-56.5 96,-92.5 \"/>\n<text text-anchor=\"middle\" x=\"130.5\" y=\"-70.8\" font-family=\"Times New Roman,serif\" font-size=\"14.00\">grad 0.00</text>\n</g>\n<!-- 2556515041632&#45;&gt;2556515044032* -->\n<g id=\"edge7\" class=\"edge\">\n<title>2556515041632&#45;&gt;2556515044032*</title>\n<path fill=\"none\" stroke=\"black\" d=\"M165.31,-89.89C174.6,-91.64 183.67,-93.35 191.86,-94.89\"/>\n<polygon fill=\"black\" stroke=\"black\" points=\"191.25,-98.34 201.73,-96.74 192.55,-91.46 191.25,-98.34\"/>\n</g>\n<!-- 2556515043696 -->\n<g id=\"node9\" class=\"node\">\n<title>2556515043696</title>\n<polygon fill=\"none\" stroke=\"black\" points=\"291,-28.5 291,-64.5 457,-64.5 457,-28.5 291,-28.5\"/>\n<text text-anchor=\"middle\" x=\"302.5\" y=\"-42.8\" font-family=\"Times New Roman,serif\" font-size=\"14.00\">c</text>\n<polyline fill=\"none\" stroke=\"black\" points=\"314,-28.5 314,-64.5 \"/>\n<text text-anchor=\"middle\" x=\"351\" y=\"-42.8\" font-family=\"Times New Roman,serif\" font-size=\"14.00\">data 10.00</text>\n<polyline fill=\"none\" stroke=\"black\" points=\"388,-28.5 388,-64.5 \"/>\n<text text-anchor=\"middle\" x=\"422.5\" y=\"-42.8\" font-family=\"Times New Roman,serif\" font-size=\"14.00\">grad 0.00</text>\n</g>\n<!-- 2556515043696&#45;&gt;2556515447856+ -->\n<g id=\"edge9\" class=\"edge\">\n<title>2556515043696&#45;&gt;2556515447856+</title>\n<path fill=\"none\" stroke=\"black\" d=\"M457.1,-61.89C466.42,-63.64 475.52,-65.35 483.74,-66.89\"/>\n<polygon fill=\"black\" stroke=\"black\" points=\"483.17,-70.34 493.64,-68.74 484.46,-63.46 483.17,-70.34\"/>\n</g>\n<!-- 2556515450256 -->\n<g id=\"node10\" class=\"node\">\n<title>2556515450256</title>\n<polygon fill=\"none\" stroke=\"black\" points=\"583,-0.5 583,-36.5 745,-36.5 745,-0.5 583,-0.5\"/>\n<text text-anchor=\"middle\" x=\"593.5\" y=\"-14.8\" font-family=\"Times New Roman,serif\" font-size=\"14.00\">f</text>\n<polyline fill=\"none\" stroke=\"black\" points=\"604,-0.5 604,-36.5 \"/>\n<text text-anchor=\"middle\" x=\"640\" y=\"-14.8\" font-family=\"Times New Roman,serif\" font-size=\"14.00\">data &#45;2.00</text>\n<polyline fill=\"none\" stroke=\"black\" points=\"676,-0.5 676,-36.5 \"/>\n<text text-anchor=\"middle\" x=\"710.5\" y=\"-14.8\" font-family=\"Times New Roman,serif\" font-size=\"14.00\">grad 0.00</text>\n</g>\n<!-- 2556515450256&#45;&gt;2556515041584* -->\n<g id=\"edge4\" class=\"edge\">\n<title>2556515450256&#45;&gt;2556515041584*</title>\n<path fill=\"none\" stroke=\"black\" d=\"M745.13,-33.74C754.51,-35.52 763.67,-37.26 771.94,-38.83\"/>\n<polygon fill=\"black\" stroke=\"black\" points=\"771.43,-42.3 781.9,-40.73 772.73,-35.42 771.43,-42.3\"/>\n</g>\n</g>\n</svg>\n",
      "text/plain": [
       "<graphviz.graphs.Digraph at 0x2533c3091f0>"
      ]
     },
     "execution_count": 79,
     "metadata": {},
     "output_type": "execute_result"
    }
   ],
   "source": [
    "draw_dot(L)"
   ]
  },
  {
   "cell_type": "code",
   "execution_count": null,
   "metadata": {},
   "outputs": [],
   "source": [
    "def lol() -> float:\n",
    "    h = 0.0001\n",
    "\n",
    "    a = Value(2.0, label=\"a\")\n",
    "    b = Value(-3.0, label=\"b\")\n",
    "    c = Value(10.0, label=\"c\")\n",
    "    e = a * b\n",
    "    e.label = \"e\"\n",
    "    d = e + c\n",
    "    d.label = \"d\"\n",
    "    f = Value(-2.0, label=\"f\")\n",
    "    L = d * f\n",
    "    L.label = \"L\"\n",
    "    L1 = L.data\n",
    "\n",
    "    a = Value(2.0 + h, label=\"a\")\n",
    "    b = Value(-3.0, label=\"b\")\n",
    "    c = Value(10.0, label=\"c\")\n",
    "    e = a * b\n",
    "    e.label = \"e\"\n",
    "    d = e + c\n",
    "    d.label = \"d\"\n",
    "    f = Value(-2.0, label=\"f\")\n",
    "    L = d * f\n",
    "    L.label = \"L\"\n",
    "    L2 = L.data\n",
    "\n",
    "    return (L2-L1)/h"
   ]
  },
  {
   "cell_type": "code",
   "execution_count": null,
   "metadata": {},
   "outputs": [],
   "source": []
  }
 ],
 "metadata": {
  "kernelspec": {
   "display_name": "Python 3.9.1 64-bit",
   "language": "python",
   "name": "python3"
  },
  "language_info": {
   "codemirror_mode": {
    "name": "ipython",
    "version": 3
   },
   "file_extension": ".py",
   "mimetype": "text/x-python",
   "name": "python",
   "nbconvert_exporter": "python",
   "pygments_lexer": "ipython3",
   "version": "3.9.1"
  },
  "orig_nbformat": 4,
  "vscode": {
   "interpreter": {
    "hash": "81794d4967e6c3204c66dcd87b604927b115b27c00565d3d43f05ba2f3a2cb0d"
   }
  }
 },
 "nbformat": 4,
 "nbformat_minor": 2
}
